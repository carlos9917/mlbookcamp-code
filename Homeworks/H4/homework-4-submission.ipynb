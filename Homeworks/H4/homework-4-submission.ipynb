{
 "cells": [
  {
   "cell_type": "markdown",
   "metadata": {},
   "source": [
    "## Homework 4\n",
    "\n",
    "Use this notebook as a starter"
   ]
  },
  {
   "cell_type": "code",
   "execution_count": 2,
   "metadata": {},
   "outputs": [],
   "source": [
    "import pandas as pd\n",
    "import numpy as np\n",
    "\n",
    "import matplotlib.pyplot as plt\n",
    "import seaborn as sns\n",
    "from rich import print #for pretty print!\n",
    "from rich.progress import track\n",
    "\n",
    "\n",
    "\n",
    "%matplotlib inline"
   ]
  },
  {
   "cell_type": "markdown",
   "metadata": {},
   "source": [
    "Data:\n",
    "\n",
    "- https://github.com/gastonstat/CreditScoring\n",
    "- Also available [here](https://raw.githubusercontent.com/alexeygrigorev/mlbookcamp-code/master/chapter-06-trees/CreditScoring.csv)"
   ]
  },
  {
   "cell_type": "code",
   "execution_count": 3,
   "metadata": {
    "scrolled": true
   },
   "outputs": [],
   "source": [
    "#Already downloaded this!\n",
    "#!wget https://raw.githubusercontent.com/alexeygrigorev/mlbookcamp-code/master/chapter-06-trees/CreditScoring.csv"
   ]
  },
  {
   "cell_type": "markdown",
   "metadata": {},
   "source": [
    "## Preparation \n",
    "\n",
    "We'll talk about this dataset in more details in week 6. But for now, use the following code to get started"
   ]
  },
  {
   "cell_type": "code",
   "execution_count": 4,
   "metadata": {},
   "outputs": [],
   "source": [
    "df = pd.read_csv('CreditScoring.csv')\n",
    "df.columns = df.columns.str.lower()"
   ]
  },
  {
   "cell_type": "markdown",
   "metadata": {},
   "source": [
    "Some of the features are encoded as numbers. Use the following code to de-code them:"
   ]
  },
  {
   "cell_type": "code",
   "execution_count": 5,
   "metadata": {},
   "outputs": [],
   "source": [
    "status_values = {\n",
    "    1: 'ok',\n",
    "    2: 'default',\n",
    "    0: 'unk'\n",
    "}\n",
    "\n",
    "df.status = df.status.map(status_values)\n",
    "\n",
    "\n",
    "home_values = {\n",
    "    1: 'rent',\n",
    "    2: 'owner',\n",
    "    3: 'private',\n",
    "    4: 'ignore',\n",
    "    5: 'parents',\n",
    "    6: 'other',\n",
    "    0: 'unk'\n",
    "}\n",
    "\n",
    "df.home = df.home.map(home_values)\n",
    "\n",
    "marital_values = {\n",
    "    1: 'single',\n",
    "    2: 'married',\n",
    "    3: 'widow',\n",
    "    4: 'separated',\n",
    "    5: 'divorced',\n",
    "    0: 'unk'\n",
    "}\n",
    "\n",
    "df.marital = df.marital.map(marital_values)\n",
    "\n",
    "records_values = {\n",
    "    1: 'no',\n",
    "    2: 'yes',\n",
    "    0: 'unk'\n",
    "}\n",
    "\n",
    "df.records = df.records.map(records_values)\n",
    "\n",
    "job_values = {\n",
    "    1: 'fixed',\n",
    "    2: 'partime',\n",
    "    3: 'freelance',\n",
    "    4: 'others',\n",
    "    0: 'unk'\n",
    "}\n",
    "\n",
    "df.job = df.job.map(job_values)"
   ]
  },
  {
   "cell_type": "markdown",
   "metadata": {},
   "source": [
    "Prepare the numerical variables:"
   ]
  },
  {
   "cell_type": "code",
   "execution_count": 6,
   "metadata": {},
   "outputs": [],
   "source": [
    "for c in ['income', 'assets', 'debt']:\n",
    "    df[c] = df[c].replace(to_replace=99999999, value=0)"
   ]
  },
  {
   "cell_type": "markdown",
   "metadata": {},
   "source": [
    "Remove clients with unknown default status"
   ]
  },
  {
   "cell_type": "code",
   "execution_count": 7,
   "metadata": {},
   "outputs": [],
   "source": [
    "df = df[df.status != 'unk'].reset_index(drop=True)"
   ]
  },
  {
   "cell_type": "markdown",
   "metadata": {},
   "source": [
    "Create the target variable"
   ]
  },
  {
   "cell_type": "code",
   "execution_count": 8,
   "metadata": {},
   "outputs": [],
   "source": [
    "df['default'] = (df.status == 'default').astype(int)\n",
    "del df['status']"
   ]
  },
  {
   "cell_type": "markdown",
   "metadata": {},
   "source": [
    "## Your code"
   ]
  },
  {
   "cell_type": "markdown",
   "metadata": {},
   "source": [
    "What are the categorical variables? What are the numerical?"
   ]
  },
  {
   "cell_type": "code",
   "execution_count": 9,
   "metadata": {},
   "outputs": [
    {
     "data": {
      "text/html": [
       "<pre style=\"white-space:pre;overflow-x:auto;line-height:normal;font-family:Menlo,'DejaVu Sans Mono',consolas,'Courier New',monospace\"><span style=\"color: #008080; text-decoration-color: #008080; font-weight: bold\">14</span> columns: <span style=\"font-weight: bold\">[</span><span style=\"color: #008000; text-decoration-color: #008000\">'seniority'</span>, <span style=\"color: #008000; text-decoration-color: #008000\">'home'</span>, <span style=\"color: #008000; text-decoration-color: #008000\">'time'</span>, <span style=\"color: #008000; text-decoration-color: #008000\">'age'</span>, <span style=\"color: #008000; text-decoration-color: #008000\">'marital'</span>, <span style=\"color: #008000; text-decoration-color: #008000\">'records'</span>, <span style=\"color: #008000; text-decoration-color: #008000\">'job'</span>, <span style=\"color: #008000; text-decoration-color: #008000\">'expenses'</span>, \n",
       "<span style=\"color: #008000; text-decoration-color: #008000\">'income'</span>, <span style=\"color: #008000; text-decoration-color: #008000\">'assets'</span>, <span style=\"color: #008000; text-decoration-color: #008000\">'debt'</span>, <span style=\"color: #008000; text-decoration-color: #008000\">'amount'</span>, <span style=\"color: #008000; text-decoration-color: #008000\">'price'</span>, <span style=\"color: #008000; text-decoration-color: #008000\">'default'</span><span style=\"font-weight: bold\">]</span>\n",
       "</pre>\n"
      ],
      "text/plain": [
       "\u001b[1;36m14\u001b[0m columns: \u001b[1m[\u001b[0m\u001b[32m'seniority'\u001b[0m, \u001b[32m'home'\u001b[0m, \u001b[32m'time'\u001b[0m, \u001b[32m'age'\u001b[0m, \u001b[32m'marital'\u001b[0m, \u001b[32m'records'\u001b[0m, \u001b[32m'job'\u001b[0m, \u001b[32m'expenses'\u001b[0m, \n",
       "\u001b[32m'income'\u001b[0m, \u001b[32m'assets'\u001b[0m, \u001b[32m'debt'\u001b[0m, \u001b[32m'amount'\u001b[0m, \u001b[32m'price'\u001b[0m, \u001b[32m'default'\u001b[0m\u001b[1m]\u001b[0m\n"
      ]
     },
     "metadata": {},
     "output_type": "display_data"
    },
    {
     "data": {
      "text/html": [
       "<pre style=\"white-space:pre;overflow-x:auto;line-height:normal;font-family:Menlo,'DejaVu Sans Mono',consolas,'Courier New',monospace\"><span style=\"color: #008080; text-decoration-color: #008080; font-weight: bold\">4</span> categorical variables: <span style=\"font-weight: bold\">[</span><span style=\"color: #008000; text-decoration-color: #008000\">'home'</span>, <span style=\"color: #008000; text-decoration-color: #008000\">'marital'</span>, <span style=\"color: #008000; text-decoration-color: #008000\">'records'</span>, <span style=\"color: #008000; text-decoration-color: #008000\">'job'</span><span style=\"font-weight: bold\">]</span>\n",
       "</pre>\n"
      ],
      "text/plain": [
       "\u001b[1;36m4\u001b[0m categorical variables: \u001b[1m[\u001b[0m\u001b[32m'home'\u001b[0m, \u001b[32m'marital'\u001b[0m, \u001b[32m'records'\u001b[0m, \u001b[32m'job'\u001b[0m\u001b[1m]\u001b[0m\n"
      ]
     },
     "metadata": {},
     "output_type": "display_data"
    },
    {
     "data": {
      "text/html": [
       "<pre style=\"white-space:pre;overflow-x:auto;line-height:normal;font-family:Menlo,'DejaVu Sans Mono',consolas,'Courier New',monospace\"><span style=\"color: #008080; text-decoration-color: #008080; font-weight: bold\">10</span> numerical variables: <span style=\"font-weight: bold\">[</span><span style=\"color: #008000; text-decoration-color: #008000\">'seniority'</span>, <span style=\"color: #008000; text-decoration-color: #008000\">'time'</span>, <span style=\"color: #008000; text-decoration-color: #008000\">'age'</span>, <span style=\"color: #008000; text-decoration-color: #008000\">'expenses'</span>, <span style=\"color: #008000; text-decoration-color: #008000\">'income'</span>, <span style=\"color: #008000; text-decoration-color: #008000\">'assets'</span>, <span style=\"color: #008000; text-decoration-color: #008000\">'debt'</span>, \n",
       "<span style=\"color: #008000; text-decoration-color: #008000\">'amount'</span>, <span style=\"color: #008000; text-decoration-color: #008000\">'price'</span>, <span style=\"color: #008000; text-decoration-color: #008000\">'default'</span><span style=\"font-weight: bold\">]</span>\n",
       "</pre>\n"
      ],
      "text/plain": [
       "\u001b[1;36m10\u001b[0m numerical variables: \u001b[1m[\u001b[0m\u001b[32m'seniority'\u001b[0m, \u001b[32m'time'\u001b[0m, \u001b[32m'age'\u001b[0m, \u001b[32m'expenses'\u001b[0m, \u001b[32m'income'\u001b[0m, \u001b[32m'assets'\u001b[0m, \u001b[32m'debt'\u001b[0m, \n",
       "\u001b[32m'amount'\u001b[0m, \u001b[32m'price'\u001b[0m, \u001b[32m'default'\u001b[0m\u001b[1m]\u001b[0m\n"
      ]
     },
     "metadata": {},
     "output_type": "display_data"
    }
   ],
   "source": [
    "cat_cols = list(df.dtypes[df.dtypes == 'object'].index)\n",
    "num_cols = list(df.dtypes[df.dtypes == 'float'].index) + list(df.dtypes[df.dtypes == 'int'].index)\n",
    "print(f\"{df.columns.shape[0]} columns: {df.columns.to_list()}\")\n",
    "print(f\"{len(cat_cols)} categorical variables: {cat_cols}\")\n",
    "print(f\"{len(num_cols)} numerical variables: {num_cols}\")"
   ]
  },
  {
   "cell_type": "markdown",
   "metadata": {},
   "source": [
    "Split the data into 3 parts: train/validation/test with 60%/20%/20% distribution. Use `train_test_split` funciton for that with `random_state=1`"
   ]
  },
  {
   "cell_type": "code",
   "execution_count": 10,
   "metadata": {},
   "outputs": [],
   "source": [
    "#Data split\n",
    "from sklearn.model_selection import train_test_split\n",
    "#test rich progress bar! Process too short to use here, try later\n",
    "#for n in track(range(100), description=\"Processing...\"):\n",
    "df_full_train, df_test = train_test_split(df, test_size=0.2, random_state=1)\n",
    "df_train, df_val = train_test_split(df_full_train, test_size=0.25, random_state=1)\n",
    "\n",
    "df_train = df_train.reset_index(drop=True)\n",
    "df_val = df_val.reset_index(drop=True)\n",
    "df_test = df_test.reset_index(drop=True)\n",
    "\n"
   ]
  },
  {
   "cell_type": "markdown",
   "metadata": {},
   "source": [
    "## Question 1\n",
    "\n",
    "ROC AUC could also be used to evaluate feature importance of numerical variables. \n",
    "\n",
    "Let's do that\n",
    "\n",
    "* For each numerical variable, use it as score and compute AUC with the default variable\n",
    "* Use the training dataset for that\n",
    "\n",
    "\n",
    "If your AUC is < 0.5, invert this variable by putting \"-\" in front\n",
    "\n",
    "(e.g. `-df_train['expenses']`)\n",
    "\n",
    "AUC can go below 0.5 if the variable is negatively correlated with the target varialble. You can change the direction of the correlation by negating this variable - then negative correlation becomes positive."
   ]
  },
  {
   "cell_type": "markdown",
   "metadata": {},
   "source": [
    "Do not know what \"use numerical variable as score\" mean..."
   ]
  },
  {
   "cell_type": "code",
   "execution_count": 11,
   "metadata": {},
   "outputs": [
    {
     "data": {
      "text/html": [
       "<pre style=\"white-space:pre;overflow-x:auto;line-height:normal;font-family:Menlo,'DejaVu Sans Mono',consolas,'Courier New',monospace\">seniority   <span style=\"color: #008080; text-decoration-color: #008080; font-weight: bold\">0.7093778624491943</span>\n",
       "</pre>\n"
      ],
      "text/plain": [
       "seniority   \u001b[1;36m0.7093778624491943\u001b[0m\n"
      ]
     },
     "metadata": {},
     "output_type": "display_data"
    },
    {
     "data": {
      "text/html": [
       "<pre style=\"white-space:pre;overflow-x:auto;line-height:normal;font-family:Menlo,'DejaVu Sans Mono',consolas,'Courier New',monospace\">time   <span style=\"color: #008080; text-decoration-color: #008080; font-weight: bold\">0.5608662489595051</span>\n",
       "</pre>\n"
      ],
      "text/plain": [
       "time   \u001b[1;36m0.5608662489595051\u001b[0m\n"
      ]
     },
     "metadata": {},
     "output_type": "display_data"
    },
    {
     "data": {
      "text/html": [
       "<pre style=\"white-space:pre;overflow-x:auto;line-height:normal;font-family:Menlo,'DejaVu Sans Mono',consolas,'Courier New',monospace\">age   <span style=\"color: #008080; text-decoration-color: #008080; font-weight: bold\">0.5732933272499939</span>\n",
       "</pre>\n"
      ],
      "text/plain": [
       "age   \u001b[1;36m0.5732933272499939\u001b[0m\n"
      ]
     },
     "metadata": {},
     "output_type": "display_data"
    },
    {
     "data": {
      "text/html": [
       "<pre style=\"white-space:pre;overflow-x:auto;line-height:normal;font-family:Menlo,'DejaVu Sans Mono',consolas,'Courier New',monospace\">expenses   <span style=\"color: #008080; text-decoration-color: #008080; font-weight: bold\">0.5009184217217011</span>\n",
       "</pre>\n"
      ],
      "text/plain": [
       "expenses   \u001b[1;36m0.5009184217217011\u001b[0m\n"
      ]
     },
     "metadata": {},
     "output_type": "display_data"
    },
    {
     "data": {
      "text/html": [
       "<pre style=\"white-space:pre;overflow-x:auto;line-height:normal;font-family:Menlo,'DejaVu Sans Mono',consolas,'Courier New',monospace\">income   <span style=\"color: #008080; text-decoration-color: #008080; font-weight: bold\">0.682006666132633</span>\n",
       "</pre>\n"
      ],
      "text/plain": [
       "income   \u001b[1;36m0.682006666132633\u001b[0m\n"
      ]
     },
     "metadata": {},
     "output_type": "display_data"
    },
    {
     "data": {
      "text/html": [
       "<pre style=\"white-space:pre;overflow-x:auto;line-height:normal;font-family:Menlo,'DejaVu Sans Mono',consolas,'Courier New',monospace\">assets   <span style=\"color: #008080; text-decoration-color: #008080; font-weight: bold\">0.6486042567122802</span>\n",
       "</pre>\n"
      ],
      "text/plain": [
       "assets   \u001b[1;36m0.6486042567122802\u001b[0m\n"
      ]
     },
     "metadata": {},
     "output_type": "display_data"
    },
    {
     "data": {
      "text/html": [
       "<pre style=\"white-space:pre;overflow-x:auto;line-height:normal;font-family:Menlo,'DejaVu Sans Mono',consolas,'Courier New',monospace\">debt   <span style=\"color: #008080; text-decoration-color: #008080; font-weight: bold\">0.5047829675783548</span>\n",
       "</pre>\n"
      ],
      "text/plain": [
       "debt   \u001b[1;36m0.5047829675783548\u001b[0m\n"
      ]
     },
     "metadata": {},
     "output_type": "display_data"
    },
    {
     "data": {
      "text/html": [
       "<pre style=\"white-space:pre;overflow-x:auto;line-height:normal;font-family:Menlo,'DejaVu Sans Mono',consolas,'Courier New',monospace\">amount   <span style=\"color: #008080; text-decoration-color: #008080; font-weight: bold\">0.5910773431595518</span>\n",
       "</pre>\n"
      ],
      "text/plain": [
       "amount   \u001b[1;36m0.5910773431595518\u001b[0m\n"
      ]
     },
     "metadata": {},
     "output_type": "display_data"
    }
   ],
   "source": [
    "from sklearn.metrics import roc_curve\n",
    "from sklearn.metrics import auc\n",
    "\n",
    "y_train = df_train.default.values\n",
    "y_val = df_val.default.values\n",
    "y_test = df_test.default.values\n",
    "#fpr, tpr, thresholds = metrics.roc_curve( y_test, \n",
    "scores=[]\n",
    "for col in num_cols[0:-2]:\n",
    "    fpr, tpr, thresholds = roc_curve(y_train, df_train[col])\n",
    "    \n",
    "    #print(col)\n",
    "    #print(df_train[col])\n",
    "    if (auc(fpr,tpr) < 0.5):\n",
    "        fpr, tpr, thresholds = roc_curve(y_train, -df_train[col])\n",
    "        print(col, \" \",auc(fpr,tpr)) #\n",
    "    else:\n",
    "        print(col, \" \",auc(fpr,tpr))\n",
    "    #auc(df_train[col].values, y_train)\n",
    "\n",
    "# base=num_cols+cat_cols\n",
    "# def prepare_X(df,base):\n",
    "#     df_num = df[base]\n",
    "#     df_num = df_num.fillna(0)\n",
    "#     X = df_num.values\n",
    "#     return X\n",
    "# X_train = prepare_X(df_train,base)\n",
    "\n",
    "# print(df_train)\n",
    "# col=\"home\"\n",
    "# fpr, tpr = roc_curve(y_train, df_train[:,col])\n",
    "\n"
   ]
  },
  {
   "cell_type": "code",
   "execution_count": 12,
   "metadata": {},
   "outputs": [],
   "source": [
    "# ANSWER: seniority"
   ]
  },
  {
   "cell_type": "markdown",
   "metadata": {},
   "source": [
    "Which categorical variable (among the following 4) has the highest AUC?\n",
    "\n",
    "- seniority (THIS ONE)\n",
    "- time \n",
    "- income\n",
    "- debt"
   ]
  },
  {
   "cell_type": "markdown",
   "metadata": {},
   "source": [
    "## Training the model\n",
    "\n",
    "From now on, use these columns only:\n",
    "\n",
    "```\n",
    "['seniority', 'income', 'assets', 'records', 'job', 'home']\n",
    "```\n",
    "\n",
    "Apply one-hot-encoding using `DictVectorizer` and train the logistic regression with these parameters:\n",
    "\n",
    "```\n",
    "LogisticRegression(solver='liblinear', C=1.0, max_iter=1000)\n",
    "```"
   ]
  },
  {
   "cell_type": "code",
   "execution_count": 13,
   "metadata": {},
   "outputs": [
    {
     "data": {
      "text/html": [
       "<pre style=\"white-space:pre;overflow-x:auto;line-height:normal;font-family:Menlo,'DejaVu Sans Mono',consolas,'Courier New',monospace\"><span style=\"color: #008080; text-decoration-color: #008080; font-weight: bold\">0.812</span>\n",
       "</pre>\n"
      ],
      "text/plain": [
       "\u001b[1;36m0.812\u001b[0m\n"
      ]
     },
     "metadata": {},
     "output_type": "display_data"
    }
   ],
   "source": [
    "\n",
    "base_cols = ['seniority', 'income', 'assets', 'records', 'job', 'home']\n",
    "from sklearn.feature_extraction import DictVectorizer\n",
    "from sklearn.linear_model import LogisticRegression\n",
    "\n",
    "# df_full_train, df_test = train_test_split(df[base_cols], test_size=0.2, random_state=1)\n",
    "# df_train, df_val = train_test_split(df_full_train, test_size=0.25, random_state=1)\n",
    "\n",
    "# df_train = df_train.reset_index(drop=True)\n",
    "# df_val = df_val.reset_index(drop=True)\n",
    "# df_test = df_test.reset_index(drop=True)\n",
    "\n",
    "dv = DictVectorizer(sparse=False)\n",
    "train_dict = df_train[base_cols].to_dict(orient='records')\n",
    "#train_dict = df_train.to_dict(orient='records')\n",
    "X_train = dv.fit_transform(train_dict)\n",
    "\n",
    "val_dict = df_val[base_cols].to_dict(orient='records')\n",
    "#val_dict = df_val.to_dict(orient='records')\n",
    "X_val = dv.transform(val_dict)\n",
    "lr = LogisticRegression(C=1.0, solver='liblinear', max_iter=1000)\n",
    "lr.fit(X_train, y_train)\n",
    "y_pred= lr.predict_proba(X_val)[:,1] # REMEMBER I AM PREDICTING PROBABILITIES!!!!!\n",
    "from sklearn.metrics import roc_auc_score\n",
    "\n",
    "print(roc_auc_score(y_val,y_pred).round(3))\n",
    "#fpr, tpr, thresholds = roc_curve(y_val, y_pred)\n",
    "\n",
    "#print(round(auc(fpr, tpr),3))\n"
   ]
  },
  {
   "cell_type": "code",
   "execution_count": null,
   "metadata": {},
   "outputs": [],
   "source": []
  },
  {
   "cell_type": "markdown",
   "metadata": {},
   "source": [
    "## Question 2\n",
    "\n",
    "What's the AUC of this model on the validation dataset? (round to 3 digits)\n",
    "\n",
    "- 0.512\n",
    "- 0.612\n",
    "- 0.712\n",
    "- 0.812 (THIS ONE)"
   ]
  },
  {
   "cell_type": "markdown",
   "metadata": {},
   "source": [
    "## Question 3\n",
    "\n",
    "Now let's compute precision and recall for our model.\n",
    "\n",
    "* Evaluate the model on all thresholds from 0.0 to 1.0 with step 0.01\n",
    "* For each threshold, compute precision and recall\n",
    "* Plot them"
   ]
  },
  {
   "cell_type": "code",
   "execution_count": 14,
   "metadata": {},
   "outputs": [
    {
     "name": "stderr",
     "output_type": "stream",
     "text": [
      "/home/cap/miniconda3/envs/py37/lib/python3.7/site-packages/ipykernel_launcher.py:27: RuntimeWarning: invalid value encountered in long_scalars\n"
     ]
    },
    {
     "data": {
      "text/plain": [
       "<matplotlib.legend.Legend at 0x7f9fc98aa4a8>"
      ]
     },
     "execution_count": 14,
     "metadata": {},
     "output_type": "execute_result"
    },
    {
     "data": {
      "image/png": "[encoded data removed]",
      "text/plain": [
       "<Figure size 432x288 with 1 Axes>"
      ]
     },
     "metadata": {
      "needs_background": "light"
     },
     "output_type": "display_data"
    },
    {
     "data": {
      "image/png": "[encoded data removed]",
      "text/plain": [
       "<Figure size 432x288 with 1 Axes>"
      ]
     },
     "metadata": {
      "needs_background": "light"
     },
     "output_type": "display_data"
    }
   ],
   "source": [
    "scores = []\n",
    "from sklearn.metrics import accuracy_score\n",
    "\n",
    "\n",
    "thresholds=np.linspace(0,1,101)\n",
    "\n",
    "for t in thresholds:\n",
    "    score = accuracy_score(y_val,y_pred >= t)\n",
    "    #print(f\"threshold: {t} and  score: {score}\")\n",
    "    scores.append(score)\n",
    "fig1=plt.figure()\n",
    "plt.plot(thresholds, scores)\n",
    "#Now do this for precision and recall\n",
    "scores=[]\n",
    "for t in thresholds:\n",
    "    actual_positive = (y_val == 1)\n",
    "    actual_negative = (y_val == 0)\n",
    "    \n",
    "    predict_positive = (y_pred >= t)\n",
    "    predict_negative = (y_pred < t)\n",
    "\n",
    "    tp = (predict_positive & actual_positive).sum()\n",
    "    tn = (predict_negative & actual_negative).sum()\n",
    "\n",
    "    fp = (predict_positive & actual_negative).sum()\n",
    "    fn = (predict_negative & actual_positive).sum()\n",
    "    p = tp/(tp + fp) #precision\n",
    "    r = tp/(tp + fn) #recall\n",
    "    \n",
    "    #scores.append((t, tp, fp, fn, tn))\n",
    "    scores.append((t, p,r))\n",
    "#columns = ['threshold', 'tp', 'fp', 'fn', 'tn']\n",
    "columns=['threshold',\"p\",\"r\"]\n",
    "df_scores = pd.DataFrame(scores, columns=columns)\n",
    "\n",
    "#df_scores['tpr'] = df_scores.tp / (df_scores.tp + df_scores.fn)\n",
    "#df_scores['fpr'] = df_scores.fp / (df_scores.fp + df_scores.tn)\n",
    "fig2=plt.figure()\n",
    "#plt.plot(df_scores.threshold, df_scores['tpr'].values, label='TPR')\n",
    "#plt.plot(df_scores.threshold, df_scores['fpr'].values, label='FPR')\n",
    "plt.plot(df_scores.threshold.values,df_scores.p.values,label=\"precision\")\n",
    "plt.plot(df_scores.threshold.values,df_scores.r.values,label=\"recall\")\n",
    "plt.legend()"
   ]
  },
  {
   "cell_type": "markdown",
   "metadata": {},
   "source": [
    "At which threshold precision and recall curves intersect?\n",
    "\n",
    "* 0.2\n",
    "* 0.4\n",
    "* 0.6 (THIS ONE)\n",
    "* 0.8"
   ]
  },
  {
   "cell_type": "markdown",
   "metadata": {},
   "source": [
    "## Question 4\n",
    "\n",
    "Precision and recall are conflicting - when one grows, the other goes down. That's why they are often combined into the F1 score - a metrics that takes into account both\n",
    "\n",
    "This is the formula for computing F1:\n",
    "\n",
    "$$F_1 = 2 \\cdot \\cfrac{P \\cdot R}{P + R}$$\n",
    "\n",
    "Where $P$ is precision and $R$ is recall.\n",
    "\n",
    "Let's compute F1 for all thresholds from 0.0 to 1.0 with increment 0.01"
   ]
  },
  {
   "cell_type": "code",
   "execution_count": 29,
   "metadata": {},
   "outputs": [
    {
     "name": "stderr",
     "output_type": "stream",
     "text": [
      "/home/cap/miniconda3/envs/py37/lib/python3.7/site-packages/matplotlib/cbook/__init__.py:1402: FutureWarning: Support for multi-dimensional indexing (e.g. `obj[:, None]`) is deprecated and will be removed in a future version.  Convert to a numpy array before indexing instead.\n",
      "  x[:, None]\n",
      "/home/cap/miniconda3/envs/py37/lib/python3.7/site-packages/matplotlib/axes/_base.py:278: FutureWarning: Support for multi-dimensional indexing (e.g. `obj[:, None]`) is deprecated and will be removed in a future version.  Convert to a numpy array before indexing instead.\n",
      "  y = y[:, np.newaxis]\n"
     ]
    },
    {
     "data": {
      "text/plain": [
       "[<matplotlib.lines.Line2D at 0x7f9fc95e4898>]"
      ]
     },
     "execution_count": 29,
     "metadata": {},
     "output_type": "execute_result"
    },
    {
     "data": {
      "image/png": "[encoded data removed]",
      "text/plain": [
       "<Figure size 432x288 with 1 Axes>"
      ]
     },
     "metadata": {
      "needs_background": "light"
     },
     "output_type": "display_data"
    }
   ],
   "source": [
    "F1 = 2* df_scores.p * df_scores.r/(df_scores.p + df_scores.r)\n",
    "F1\n",
    "fig3=plt.figure()\n",
    "plt.plot(df_scores.threshold.values,F1,label=\"F1\")\n"
   ]
  },
  {
   "cell_type": "markdown",
   "metadata": {},
   "source": [
    "At which threshold F1 is maximal?\n",
    "\n",
    "- 0.1\n",
    "- 0.3 (THiS ONE)\n",
    "- 0.5 \n",
    "- 0.7"
   ]
  },
  {
   "cell_type": "markdown",
   "metadata": {},
   "source": [
    "## Question 5\n",
    "\n",
    "\n",
    "Use the `KFold` class from Scikit-Learn to evaluate our model on 5 different folds:\n",
    "\n",
    "```\n",
    "KFold(n_splits=5, shuffle=True, random_state=1)\n",
    "```\n",
    "\n",
    "* Iterate over different folds of `df_full_train`\n",
    "* Split the data into train and validation\n",
    "* Train the model on train with these parameters: `LogisticRegression(solver='liblinear', C=1.0, max_iter=1000)`\n",
    "* Use AUC to evaluate the model on validation\n"
   ]
  },
  {
   "cell_type": "code",
   "execution_count": 27,
   "metadata": {},
   "outputs": [
    {
     "data": {
      "text/html": [
       "<pre style=\"white-space:pre;overflow-x:auto;line-height:normal;font-family:Menlo,'DejaVu Sans Mono',consolas,'Courier New',monospace\"><span style=\"color: #800080; text-decoration-color: #800080; font-weight: bold\">Index</span><span style=\"font-weight: bold\">([</span><span style=\"color: #008000; text-decoration-color: #008000\">'seniority'</span>, <span style=\"color: #008000; text-decoration-color: #008000\">'home'</span>, <span style=\"color: #008000; text-decoration-color: #008000\">'time'</span>, <span style=\"color: #008000; text-decoration-color: #008000\">'age'</span>, <span style=\"color: #008000; text-decoration-color: #008000\">'marital'</span>, <span style=\"color: #008000; text-decoration-color: #008000\">'records'</span>, <span style=\"color: #008000; text-decoration-color: #008000\">'job'</span>,\n",
       "       <span style=\"color: #008000; text-decoration-color: #008000\">'expenses'</span>, <span style=\"color: #008000; text-decoration-color: #008000\">'income'</span>, <span style=\"color: #008000; text-decoration-color: #008000\">'assets'</span>, <span style=\"color: #008000; text-decoration-color: #008000\">'debt'</span>, <span style=\"color: #008000; text-decoration-color: #008000\">'amount'</span>, <span style=\"color: #008000; text-decoration-color: #008000\">'price'</span>, <span style=\"color: #008000; text-decoration-color: #008000\">'default'</span><span style=\"font-weight: bold\">]</span>,\n",
       "      <span style=\"color: #808000; text-decoration-color: #808000\">dtype</span>=<span style=\"color: #008000; text-decoration-color: #008000\">'object'</span><span style=\"font-weight: bold\">)</span>\n",
       "</pre>\n"
      ],
      "text/plain": [
       "\u001b[1;35mIndex\u001b[0m\u001b[1m(\u001b[0m\u001b[1m[\u001b[0m\u001b[32m'seniority'\u001b[0m, \u001b[32m'home'\u001b[0m, \u001b[32m'time'\u001b[0m, \u001b[32m'age'\u001b[0m, \u001b[32m'marital'\u001b[0m, \u001b[32m'records'\u001b[0m, \u001b[32m'job'\u001b[0m,\n",
       "       \u001b[32m'expenses'\u001b[0m, \u001b[32m'income'\u001b[0m, \u001b[32m'assets'\u001b[0m, \u001b[32m'debt'\u001b[0m, \u001b[32m'amount'\u001b[0m, \u001b[32m'price'\u001b[0m, \u001b[32m'default'\u001b[0m\u001b[1m]\u001b[0m,\n",
       "      \u001b[33mdtype\u001b[0m=\u001b[32m'object'\u001b[0m\u001b[1m)\u001b[0m\n"
      ]
     },
     "metadata": {},
     "output_type": "display_data"
    },
    {
     "data": {
      "text/html": [
       "<pre style=\"white-space:pre;overflow-x:auto;line-height:normal;font-family:Menlo,'DejaVu Sans Mono',consolas,'Courier New',monospace\"><span style=\"color: #008080; text-decoration-color: #008080; font-weight: bold\">0.016626317167226057</span>\n",
       "</pre>\n"
      ],
      "text/plain": [
       "\u001b[1;36m0.016626317167226057\u001b[0m\n"
      ]
     },
     "metadata": {},
     "output_type": "display_data"
    }
   ],
   "source": [
    "from sklearn.model_selection import KFold\n",
    "from tqdm.auto import tqdm #this is apparently a progress bar. I think I prefer rich\n",
    "\n",
    "def train(df_train, y_train, C=1.0):\n",
    "    dicts = df_train.to_dict(orient='records')\n",
    "\n",
    "    dv = DictVectorizer(sparse=False)\n",
    "    X_train = dv.fit_transform(dicts)\n",
    "\n",
    "    model = LogisticRegression(solver='liblinear',C=C, max_iter=1000)\n",
    "    model.fit(X_train, y_train)\n",
    "    \n",
    "    return dv, model\n",
    "\n",
    "def predict(df, dv, model):\n",
    "    #dicts = df[cat_cols + num_cols].to_dict(orient='records')\n",
    "    dicts = df[base_cols].to_dict(orient=\"records\")\n",
    "\n",
    "    X = dv.transform(dicts)\n",
    "    y_pred = model.predict_proba(X)[:, 1]\n",
    "\n",
    "    return y_pred\n",
    "#NEED TO FIX BELOW\n",
    "#for n in track(range(100), description=\"Processing...\"):\n",
    "#for C in tqdm([0.001, 0.01, 0.1, 0.5, 1, 5, 10]):\n",
    "kfold = KFold(n_splits=5, shuffle=True, random_state=1)\n",
    "scores = []\n",
    "for train_idx, val_idx in kfold.split(df_full_train):\n",
    "    df_train = df_full_train.iloc[train_idx]\n",
    "    df_val = df_full_train.iloc[val_idx]\n",
    "\n",
    "    y_train = df_train.default.values\n",
    "    y_val = df_val.default.values\n",
    "\n",
    "    dv, model = train(df_train, y_train)\n",
    "    y_pred = predict(df_val, dv, model)\n",
    "\n",
    "    auc = roc_auc_score(y_val, y_pred)\n",
    "    scores.append(auc)\n",
    "#print(\"mean = %.3f, std = %.3f\"%(np.mean(scores), np.std(scores)))\n",
    "print(np.std(scores))\n",
    "#     scores = []\n",
    "\n",
    "#NO C variation yet!\n",
    "# for train_idx, val_idx in kfold.split(df_full_train):\n",
    "#         df_train = df_full_train.iloc[train_idx]\n",
    "#         df_val = df_full_train.iloc[val_idx]\n",
    "\n",
    "#         y_train = df_full_train.default.values\n",
    "#         y_val = df_val.default.values\n",
    "\n",
    "#         dv, model = train(df_train, y_train, C=C)\n",
    "#         y_pred = predict(df_val, dv, model)\n",
    "\n",
    "#         auc = roc_auc_score(y_val, y_pred)\n",
    "#         scores.append(auc)\n",
    "\n",
    "#     print('C=%s %.3f +- %.3f' % (C, np.mean(scores), np.std(scores)))\n",
    "#     #print(np.mean(scores), np.std(scores))"
   ]
  },
  {
   "cell_type": "markdown",
   "metadata": {},
   "source": [
    "How large is standard devidation of the scores across different folds?\n",
    "\n",
    "- 0.001\n",
    "- 0.014 (THIS ONE, I THINK...)\n",
    "- 0.09\n",
    "- 0.14"
   ]
  },
  {
   "cell_type": "markdown",
   "metadata": {},
   "source": [
    "## Question 6\n",
    "\n",
    "Now let's use 5-Fold cross-validation to find the best parameter C\n",
    "\n",
    "* Iterate over the following C values: `[0.01, 0.1, 1, 10]`\n",
    "* Use these parametes for the model: `LogisticRegression(solver='liblinear', C=C, max_iter=1000)`\n",
    "* Compute the mean score as well as the std"
   ]
  },
  {
   "cell_type": "code",
   "execution_count": 28,
   "metadata": {},
   "outputs": [
    {
     "data": {
      "application/vnd.jupyter.widget-view+json": {
       "model_id": "7033d3f7c9f44a4cbee86fa80f9be20f",
       "version_major": 2,
       "version_minor": 0
      },
      "text/plain": [
       "HBox(children=(FloatProgress(value=0.0, max=4.0), HTML(value='')))"
      ]
     },
     "metadata": {},
     "output_type": "display_data"
    },
    {
     "data": {
      "text/html": [
       "<pre style=\"white-space:pre;overflow-x:auto;line-height:normal;font-family:Menlo,'DejaVu Sans Mono',consolas,'Courier New',monospace\"><span style=\"color: #808000; text-decoration-color: #808000\">C</span>=<span style=\"color: #008080; text-decoration-color: #008080; font-weight: bold\">0.01</span> <span style=\"color: #008080; text-decoration-color: #008080; font-weight: bold\">0.824</span> +- <span style=\"color: #008080; text-decoration-color: #008080; font-weight: bold\">0.000</span>\n",
       "</pre>\n"
      ],
      "text/plain": [
       "\u001b[33mC\u001b[0m=\u001b[1;36m0\u001b[0m\u001b[1;36m.01\u001b[0m \u001b[1;36m0.824\u001b[0m +- \u001b[1;36m0.000\u001b[0m\n"
      ]
     },
     "metadata": {},
     "output_type": "display_data"
    },
    {
     "data": {
      "text/html": [
       "<pre style=\"white-space:pre;overflow-x:auto;line-height:normal;font-family:Menlo,'DejaVu Sans Mono',consolas,'Courier New',monospace\"><span style=\"color: #808000; text-decoration-color: #808000\">C</span>=<span style=\"color: #008080; text-decoration-color: #008080; font-weight: bold\">0.01</span> <span style=\"color: #008080; text-decoration-color: #008080; font-weight: bold\">0.828</span> +- <span style=\"color: #008080; text-decoration-color: #008080; font-weight: bold\">0.004</span>\n",
       "</pre>\n"
      ],
      "text/plain": [
       "\u001b[33mC\u001b[0m=\u001b[1;36m0\u001b[0m\u001b[1;36m.01\u001b[0m \u001b[1;36m0.828\u001b[0m +- \u001b[1;36m0.004\u001b[0m\n"
      ]
     },
     "metadata": {},
     "output_type": "display_data"
    },
    {
     "data": {
      "text/html": [
       "<pre style=\"white-space:pre;overflow-x:auto;line-height:normal;font-family:Menlo,'DejaVu Sans Mono',consolas,'Courier New',monospace\"><span style=\"color: #808000; text-decoration-color: #808000\">C</span>=<span style=\"color: #008080; text-decoration-color: #008080; font-weight: bold\">0.01</span> <span style=\"color: #008080; text-decoration-color: #008080; font-weight: bold\">0.813</span> +- <span style=\"color: #008080; text-decoration-color: #008080; font-weight: bold\">0.020</span>\n",
       "</pre>\n"
      ],
      "text/plain": [
       "\u001b[33mC\u001b[0m=\u001b[1;36m0\u001b[0m\u001b[1;36m.01\u001b[0m \u001b[1;36m0.813\u001b[0m +- \u001b[1;36m0.020\u001b[0m\n"
      ]
     },
     "metadata": {},
     "output_type": "display_data"
    },
    {
     "data": {
      "text/html": [
       "<pre style=\"white-space:pre;overflow-x:auto;line-height:normal;font-family:Menlo,'DejaVu Sans Mono',consolas,'Courier New',monospace\"><span style=\"color: #808000; text-decoration-color: #808000\">C</span>=<span style=\"color: #008080; text-decoration-color: #008080; font-weight: bold\">0.01</span> <span style=\"color: #008080; text-decoration-color: #008080; font-weight: bold\">0.814</span> +- <span style=\"color: #008080; text-decoration-color: #008080; font-weight: bold\">0.018</span>\n",
       "</pre>\n"
      ],
      "text/plain": [
       "\u001b[33mC\u001b[0m=\u001b[1;36m0\u001b[0m\u001b[1;36m.01\u001b[0m \u001b[1;36m0.814\u001b[0m +- \u001b[1;36m0.018\u001b[0m\n"
      ]
     },
     "metadata": {},
     "output_type": "display_data"
    },
    {
     "data": {
      "text/html": [
       "<pre style=\"white-space:pre;overflow-x:auto;line-height:normal;font-family:Menlo,'DejaVu Sans Mono',consolas,'Courier New',monospace\"><span style=\"color: #808000; text-decoration-color: #808000\">C</span>=<span style=\"color: #008080; text-decoration-color: #008080; font-weight: bold\">0.01</span> <span style=\"color: #008080; text-decoration-color: #008080; font-weight: bold\">0.811</span> +- <span style=\"color: #008080; text-decoration-color: #008080; font-weight: bold\">0.017</span>\n",
       "</pre>\n"
      ],
      "text/plain": [
       "\u001b[33mC\u001b[0m=\u001b[1;36m0\u001b[0m\u001b[1;36m.01\u001b[0m \u001b[1;36m0.811\u001b[0m +- \u001b[1;36m0.017\u001b[0m\n"
      ]
     },
     "metadata": {},
     "output_type": "display_data"
    },
    {
     "data": {
      "text/html": [
       "<pre style=\"white-space:pre;overflow-x:auto;line-height:normal;font-family:Menlo,'DejaVu Sans Mono',consolas,'Courier New',monospace\"><span style=\"color: #808000; text-decoration-color: #808000\">C</span>=<span style=\"color: #008080; text-decoration-color: #008080; font-weight: bold\">0.1</span> <span style=\"color: #008080; text-decoration-color: #008080; font-weight: bold\">0.824</span> +- <span style=\"color: #008080; text-decoration-color: #008080; font-weight: bold\">0.000</span>\n",
       "</pre>\n"
      ],
      "text/plain": [
       "\u001b[33mC\u001b[0m=\u001b[1;36m0\u001b[0m\u001b[1;36m.1\u001b[0m \u001b[1;36m0.824\u001b[0m +- \u001b[1;36m0.000\u001b[0m\n"
      ]
     },
     "metadata": {},
     "output_type": "display_data"
    },
    {
     "data": {
      "text/html": [
       "<pre style=\"white-space:pre;overflow-x:auto;line-height:normal;font-family:Menlo,'DejaVu Sans Mono',consolas,'Courier New',monospace\"><span style=\"color: #808000; text-decoration-color: #808000\">C</span>=<span style=\"color: #008080; text-decoration-color: #008080; font-weight: bold\">0.1</span> <span style=\"color: #008080; text-decoration-color: #008080; font-weight: bold\">0.828</span> +- <span style=\"color: #008080; text-decoration-color: #008080; font-weight: bold\">0.004</span>\n",
       "</pre>\n"
      ],
      "text/plain": [
       "\u001b[33mC\u001b[0m=\u001b[1;36m0\u001b[0m\u001b[1;36m.1\u001b[0m \u001b[1;36m0.828\u001b[0m +- \u001b[1;36m0.004\u001b[0m\n"
      ]
     },
     "metadata": {},
     "output_type": "display_data"
    },
    {
     "data": {
      "text/html": [
       "<pre style=\"white-space:pre;overflow-x:auto;line-height:normal;font-family:Menlo,'DejaVu Sans Mono',consolas,'Courier New',monospace\"><span style=\"color: #808000; text-decoration-color: #808000\">C</span>=<span style=\"color: #008080; text-decoration-color: #008080; font-weight: bold\">0.1</span> <span style=\"color: #008080; text-decoration-color: #008080; font-weight: bold\">0.813</span> +- <span style=\"color: #008080; text-decoration-color: #008080; font-weight: bold\">0.020</span>\n",
       "</pre>\n"
      ],
      "text/plain": [
       "\u001b[33mC\u001b[0m=\u001b[1;36m0\u001b[0m\u001b[1;36m.1\u001b[0m \u001b[1;36m0.813\u001b[0m +- \u001b[1;36m0.020\u001b[0m\n"
      ]
     },
     "metadata": {},
     "output_type": "display_data"
    },
    {
     "data": {
      "text/html": [
       "<pre style=\"white-space:pre;overflow-x:auto;line-height:normal;font-family:Menlo,'DejaVu Sans Mono',consolas,'Courier New',monospace\"><span style=\"color: #808000; text-decoration-color: #808000\">C</span>=<span style=\"color: #008080; text-decoration-color: #008080; font-weight: bold\">0.1</span> <span style=\"color: #008080; text-decoration-color: #008080; font-weight: bold\">0.814</span> +- <span style=\"color: #008080; text-decoration-color: #008080; font-weight: bold\">0.018</span>\n",
       "</pre>\n"
      ],
      "text/plain": [
       "\u001b[33mC\u001b[0m=\u001b[1;36m0\u001b[0m\u001b[1;36m.1\u001b[0m \u001b[1;36m0.814\u001b[0m +- \u001b[1;36m0.018\u001b[0m\n"
      ]
     },
     "metadata": {},
     "output_type": "display_data"
    },
    {
     "data": {
      "text/html": [
       "<pre style=\"white-space:pre;overflow-x:auto;line-height:normal;font-family:Menlo,'DejaVu Sans Mono',consolas,'Courier New',monospace\"><span style=\"color: #808000; text-decoration-color: #808000\">C</span>=<span style=\"color: #008080; text-decoration-color: #008080; font-weight: bold\">0.1</span> <span style=\"color: #008080; text-decoration-color: #008080; font-weight: bold\">0.811</span> +- <span style=\"color: #008080; text-decoration-color: #008080; font-weight: bold\">0.017</span>\n",
       "</pre>\n"
      ],
      "text/plain": [
       "\u001b[33mC\u001b[0m=\u001b[1;36m0\u001b[0m\u001b[1;36m.1\u001b[0m \u001b[1;36m0.811\u001b[0m +- \u001b[1;36m0.017\u001b[0m\n"
      ]
     },
     "metadata": {},
     "output_type": "display_data"
    },
    {
     "data": {
      "text/html": [
       "<pre style=\"white-space:pre;overflow-x:auto;line-height:normal;font-family:Menlo,'DejaVu Sans Mono',consolas,'Courier New',monospace\"><span style=\"color: #808000; text-decoration-color: #808000\">C</span>=<span style=\"color: #008080; text-decoration-color: #008080; font-weight: bold\">1</span> <span style=\"color: #008080; text-decoration-color: #008080; font-weight: bold\">0.824</span> +- <span style=\"color: #008080; text-decoration-color: #008080; font-weight: bold\">0.000</span>\n",
       "</pre>\n"
      ],
      "text/plain": [
       "\u001b[33mC\u001b[0m=\u001b[1;36m1\u001b[0m \u001b[1;36m0.824\u001b[0m +- \u001b[1;36m0.000\u001b[0m\n"
      ]
     },
     "metadata": {},
     "output_type": "display_data"
    },
    {
     "data": {
      "text/html": [
       "<pre style=\"white-space:pre;overflow-x:auto;line-height:normal;font-family:Menlo,'DejaVu Sans Mono',consolas,'Courier New',monospace\"><span style=\"color: #808000; text-decoration-color: #808000\">C</span>=<span style=\"color: #008080; text-decoration-color: #008080; font-weight: bold\">1</span> <span style=\"color: #008080; text-decoration-color: #008080; font-weight: bold\">0.828</span> +- <span style=\"color: #008080; text-decoration-color: #008080; font-weight: bold\">0.004</span>\n",
       "</pre>\n"
      ],
      "text/plain": [
       "\u001b[33mC\u001b[0m=\u001b[1;36m1\u001b[0m \u001b[1;36m0.828\u001b[0m +- \u001b[1;36m0.004\u001b[0m\n"
      ]
     },
     "metadata": {},
     "output_type": "display_data"
    },
    {
     "data": {
      "text/html": [
       "<pre style=\"white-space:pre;overflow-x:auto;line-height:normal;font-family:Menlo,'DejaVu Sans Mono',consolas,'Courier New',monospace\"><span style=\"color: #808000; text-decoration-color: #808000\">C</span>=<span style=\"color: #008080; text-decoration-color: #008080; font-weight: bold\">1</span> <span style=\"color: #008080; text-decoration-color: #008080; font-weight: bold\">0.813</span> +- <span style=\"color: #008080; text-decoration-color: #008080; font-weight: bold\">0.020</span>\n",
       "</pre>\n"
      ],
      "text/plain": [
       "\u001b[33mC\u001b[0m=\u001b[1;36m1\u001b[0m \u001b[1;36m0.813\u001b[0m +- \u001b[1;36m0.020\u001b[0m\n"
      ]
     },
     "metadata": {},
     "output_type": "display_data"
    },
    {
     "data": {
      "text/html": [
       "<pre style=\"white-space:pre;overflow-x:auto;line-height:normal;font-family:Menlo,'DejaVu Sans Mono',consolas,'Courier New',monospace\"><span style=\"color: #808000; text-decoration-color: #808000\">C</span>=<span style=\"color: #008080; text-decoration-color: #008080; font-weight: bold\">1</span> <span style=\"color: #008080; text-decoration-color: #008080; font-weight: bold\">0.814</span> +- <span style=\"color: #008080; text-decoration-color: #008080; font-weight: bold\">0.018</span>\n",
       "</pre>\n"
      ],
      "text/plain": [
       "\u001b[33mC\u001b[0m=\u001b[1;36m1\u001b[0m \u001b[1;36m0.814\u001b[0m +- \u001b[1;36m0.018\u001b[0m\n"
      ]
     },
     "metadata": {},
     "output_type": "display_data"
    },
    {
     "data": {
      "text/html": [
       "<pre style=\"white-space:pre;overflow-x:auto;line-height:normal;font-family:Menlo,'DejaVu Sans Mono',consolas,'Courier New',monospace\"><span style=\"color: #808000; text-decoration-color: #808000\">C</span>=<span style=\"color: #008080; text-decoration-color: #008080; font-weight: bold\">1</span> <span style=\"color: #008080; text-decoration-color: #008080; font-weight: bold\">0.811</span> +- <span style=\"color: #008080; text-decoration-color: #008080; font-weight: bold\">0.017</span>\n",
       "</pre>\n"
      ],
      "text/plain": [
       "\u001b[33mC\u001b[0m=\u001b[1;36m1\u001b[0m \u001b[1;36m0.811\u001b[0m +- \u001b[1;36m0.017\u001b[0m\n"
      ]
     },
     "metadata": {},
     "output_type": "display_data"
    },
    {
     "data": {
      "text/html": [
       "<pre style=\"white-space:pre;overflow-x:auto;line-height:normal;font-family:Menlo,'DejaVu Sans Mono',consolas,'Courier New',monospace\"><span style=\"color: #808000; text-decoration-color: #808000\">C</span>=<span style=\"color: #008080; text-decoration-color: #008080; font-weight: bold\">10</span> <span style=\"color: #008080; text-decoration-color: #008080; font-weight: bold\">0.824</span> +- <span style=\"color: #008080; text-decoration-color: #008080; font-weight: bold\">0.000</span>\n",
       "</pre>\n"
      ],
      "text/plain": [
       "\u001b[33mC\u001b[0m=\u001b[1;36m10\u001b[0m \u001b[1;36m0.824\u001b[0m +- \u001b[1;36m0.000\u001b[0m\n"
      ]
     },
     "metadata": {},
     "output_type": "display_data"
    },
    {
     "data": {
      "text/html": [
       "<pre style=\"white-space:pre;overflow-x:auto;line-height:normal;font-family:Menlo,'DejaVu Sans Mono',consolas,'Courier New',monospace\"><span style=\"color: #808000; text-decoration-color: #808000\">C</span>=<span style=\"color: #008080; text-decoration-color: #008080; font-weight: bold\">10</span> <span style=\"color: #008080; text-decoration-color: #008080; font-weight: bold\">0.828</span> +- <span style=\"color: #008080; text-decoration-color: #008080; font-weight: bold\">0.004</span>\n",
       "</pre>\n"
      ],
      "text/plain": [
       "\u001b[33mC\u001b[0m=\u001b[1;36m10\u001b[0m \u001b[1;36m0.828\u001b[0m +- \u001b[1;36m0.004\u001b[0m\n"
      ]
     },
     "metadata": {},
     "output_type": "display_data"
    },
    {
     "data": {
      "text/html": [
       "<pre style=\"white-space:pre;overflow-x:auto;line-height:normal;font-family:Menlo,'DejaVu Sans Mono',consolas,'Courier New',monospace\"><span style=\"color: #808000; text-decoration-color: #808000\">C</span>=<span style=\"color: #008080; text-decoration-color: #008080; font-weight: bold\">10</span> <span style=\"color: #008080; text-decoration-color: #008080; font-weight: bold\">0.813</span> +- <span style=\"color: #008080; text-decoration-color: #008080; font-weight: bold\">0.020</span>\n",
       "</pre>\n"
      ],
      "text/plain": [
       "\u001b[33mC\u001b[0m=\u001b[1;36m10\u001b[0m \u001b[1;36m0.813\u001b[0m +- \u001b[1;36m0.020\u001b[0m\n"
      ]
     },
     "metadata": {},
     "output_type": "display_data"
    },
    {
     "data": {
      "text/html": [
       "<pre style=\"white-space:pre;overflow-x:auto;line-height:normal;font-family:Menlo,'DejaVu Sans Mono',consolas,'Courier New',monospace\"><span style=\"color: #808000; text-decoration-color: #808000\">C</span>=<span style=\"color: #008080; text-decoration-color: #008080; font-weight: bold\">10</span> <span style=\"color: #008080; text-decoration-color: #008080; font-weight: bold\">0.814</span> +- <span style=\"color: #008080; text-decoration-color: #008080; font-weight: bold\">0.018</span>\n",
       "</pre>\n"
      ],
      "text/plain": [
       "\u001b[33mC\u001b[0m=\u001b[1;36m10\u001b[0m \u001b[1;36m0.814\u001b[0m +- \u001b[1;36m0.018\u001b[0m\n"
      ]
     },
     "metadata": {},
     "output_type": "display_data"
    },
    {
     "data": {
      "text/html": [
       "<pre style=\"white-space:pre;overflow-x:auto;line-height:normal;font-family:Menlo,'DejaVu Sans Mono',consolas,'Courier New',monospace\"><span style=\"color: #808000; text-decoration-color: #808000\">C</span>=<span style=\"color: #008080; text-decoration-color: #008080; font-weight: bold\">10</span> <span style=\"color: #008080; text-decoration-color: #008080; font-weight: bold\">0.811</span> +- <span style=\"color: #008080; text-decoration-color: #008080; font-weight: bold\">0.017</span>\n",
       "</pre>\n"
      ],
      "text/plain": [
       "\u001b[33mC\u001b[0m=\u001b[1;36m10\u001b[0m \u001b[1;36m0.811\u001b[0m +- \u001b[1;36m0.017\u001b[0m\n"
      ]
     },
     "metadata": {},
     "output_type": "display_data"
    },
    {
     "name": "stdout",
     "output_type": "stream",
     "text": [
      "\n"
     ]
    }
   ],
   "source": [
    "for C in tqdm([0.01, 0.1, 1, 10]):\n",
    "    kfold = KFold(n_splits=5, shuffle=True, random_state=1)\n",
    "    scores = []\n",
    "    for train_idx, val_idx in kfold.split(df_full_train):\n",
    "        df_train = df_full_train.iloc[train_idx]\n",
    "        df_val = df_full_train.iloc[val_idx]\n",
    "\n",
    "        y_train = df_train.default.values\n",
    "        y_val = df_val.default.values\n",
    "\n",
    "        dv, model = train(df_train, y_train)\n",
    "        y_pred = predict(df_val, dv, model)\n",
    "\n",
    "        auc = roc_auc_score(y_val, y_pred)\n",
    "        scores.append(auc)\n",
    "        print('C=%s %.3f +- %.3f' % (C, np.mean(scores), np.std(scores)))\n",
    "\n",
    "\n",
    "    "
   ]
  },
  {
   "cell_type": "markdown",
   "metadata": {},
   "source": [
    "Which C leads to the best mean score?\n",
    "\n",
    "- 0.01 (THIS ONE)\n",
    "- 0.1\n",
    "- 1\n",
    "- 10\n",
    "\n",
    "If you have ties, select the score with the lowest std. If you still have ties, select the smallest C"
   ]
  },
  {
   "cell_type": "code",
   "execution_count": null,
   "metadata": {},
   "outputs": [],
   "source": []
  },
  {
   "cell_type": "markdown",
   "metadata": {},
   "source": [
    "## Submit the results\n",
    "\n",
    "Submit your results here: https://forms.gle/e497sR5iB36mM9Cs5\n",
    "\n",
    "It's possible that your answers won't match exactly. If it's the case, select the closest one.\n",
    "\n",
    "## Deadline\n",
    "\n",
    "The deadline for submitting is 04 October 2021, 17:00 CET. After that, the form will be closed."
   ]
  },
  {
   "cell_type": "code",
   "execution_count": null,
   "metadata": {},
   "outputs": [],
   "source": []
  }
 ],
 "metadata": {
  "kernelspec": {
   "display_name": "Python 3",
   "language": "python",
   "name": "python3"
  },
  "language_info": {
   "codemirror_mode": {
    "name": "ipython",
    "version": 3
   },
   "file_extension": ".py",
   "mimetype": "text/x-python",
   "name": "python",
   "nbconvert_exporter": "python",
   "pygments_lexer": "ipython3",
   "version": "3.7.3"
  }
 },
 "nbformat": 4,
 "nbformat_minor": 4
}
