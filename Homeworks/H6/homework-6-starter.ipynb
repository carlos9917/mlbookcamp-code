{
 "cells": [
  {
   "cell_type": "markdown",
   "metadata": {},
   "source": [
    "## 6.10 Homework\n",
    "\n",
    "The goal of this homework is to create a tree-based regression model for prediction apartment prices (column `'price'`).\n",
    "\n",
    "In this homework we'll again use the New York City Airbnb Open Data dataset - the same one we used in homework 2 and 3.\n",
    "\n",
    "You can take it from [Kaggle](https://www.kaggle.com/dgomonov/new-york-city-airbnb-open-data?select=AB_NYC_2019.csv)\n",
    "or download from [here](https://raw.githubusercontent.com/alexeygrigorev/datasets/master/AB_NYC_2019.csv)\n",
    "if you don't want to sign up to Kaggle.\n",
    "\n",
    "Let's load the data:"
   ]
  },
  {
   "cell_type": "code",
   "execution_count": 1,
   "metadata": {},
   "outputs": [],
   "source": [
    "import pandas as pd\n",
    "import numpy as np\n",
    "\n",
    "import matplotlib.pyplot as plt\n",
    "import seaborn as sns\n",
    "\n",
    "%matplotlib inline"
   ]
  },
  {
   "cell_type": "code",
   "execution_count": 2,
   "metadata": {},
   "outputs": [],
   "source": [
    "columns = [\n",
    "    'neighbourhood_group', 'room_type', 'latitude', 'longitude',\n",
    "    'minimum_nights', 'number_of_reviews','reviews_per_month',\n",
    "    'calculated_host_listings_count', 'availability_365',\n",
    "    'price'\n",
    "]\n",
    "\n",
    "df = pd.read_csv('../H2/AB_NYC_2019.csv', usecols=columns)\n",
    "df.reviews_per_month = df.reviews_per_month.fillna(0)"
   ]
  },
  {
   "cell_type": "code",
   "execution_count": 3,
   "metadata": {},
   "outputs": [
    {
     "data": {
      "text/plain": [
       "0        149\n",
       "1        225\n",
       "2        150\n",
       "3         89\n",
       "4         80\n",
       "        ... \n",
       "48890     70\n",
       "48891     40\n",
       "48892    115\n",
       "48893     55\n",
       "48894     90\n",
       "Name: price, Length: 48895, dtype: int64"
      ]
     },
     "execution_count": 3,
     "metadata": {},
     "output_type": "execute_result"
    }
   ],
   "source": [
    "df.price"
   ]
  },
  {
   "cell_type": "markdown",
   "metadata": {},
   "source": [
    "* Apply the log tranform to `price` (WHY???)\n",
    "* Do train/validation/test split with 60%/20%/20% distribution. \n",
    "* Use the `train_test_split` function and set the `random_state` parameter to 1"
   ]
  },
  {
   "cell_type": "code",
   "execution_count": 4,
   "metadata": {},
   "outputs": [],
   "source": [
    "from sklearn.model_selection import train_test_split\n",
    "\n",
    "df_full_train, df_test = train_test_split(df, test_size=0.2, random_state=1)\n",
    "df_train, df_val = train_test_split(df_full_train, test_size=0.25, random_state=1)\n",
    "\n",
    "y_train = np.log1p(df_train.price.values)\n",
    "y_val = np.log1p(df_val.price.values)\n",
    "y_test = np.log1p(df_test.price.values)\n",
    "#drop the price column before doing anything\n",
    "del df_train['price']\n",
    "del df_val['price']\n",
    "del df_test['price']\n"
   ]
  },
  {
   "cell_type": "code",
   "execution_count": 5,
   "metadata": {},
   "outputs": [
    {
     "data": {
      "text/plain": [
       "array([4.7095302 , 4.26267988, 6.13339804, ..., 3.93182563, 5.52545294,\n",
       "       5.39362755])"
      ]
     },
     "execution_count": 5,
     "metadata": {},
     "output_type": "execute_result"
    }
   ],
   "source": [
    "y_train"
   ]
  },
  {
   "cell_type": "code",
   "execution_count": 6,
   "metadata": {},
   "outputs": [],
   "source": [
    "#It will fail with the float numbers above. I need to use a label encoder, since this\n",
    "# is a classifier problem\n",
    "#  LabelEncoder will convert string or float values to 0 .. n classes.\n",
    "from sklearn import preprocessing\n",
    "\n",
    "lab_enc = preprocessing.LabelEncoder()\n",
    "y_train_encoded = lab_enc.fit_transform(y_train)"
   ]
  },
  {
   "cell_type": "code",
   "execution_count": 7,
   "metadata": {},
   "outputs": [
    {
     "data": {
      "text/plain": [
       "array([ 98,  58, 403, ...,  38, 238, 207])"
      ]
     },
     "execution_count": 7,
     "metadata": {},
     "output_type": "execute_result"
    }
   ],
   "source": [
    "y_train_encoded"
   ]
  },
  {
   "cell_type": "markdown",
   "metadata": {},
   "source": [
    "Now, use `DictVectorizer` to turn train and validation into matrices:"
   ]
  },
  {
   "cell_type": "code",
   "execution_count": 8,
   "metadata": {},
   "outputs": [],
   "source": [
    "from sklearn.feature_extraction import DictVectorizer\n",
    "train_dicts = df_train.fillna(0).to_dict(orient='records')\n",
    "dv = DictVectorizer(sparse=False)\n",
    "X_train = dv.fit_transform(train_dicts)\n",
    "val_dicts = df_val.fillna(0).to_dict(orient='records')\n",
    "X_val = dv.transform(val_dicts)"
   ]
  },
  {
   "cell_type": "markdown",
   "metadata": {},
   "source": [
    "## Question 1\n",
    "\n",
    "Let's train a decision tree regressor to predict the price variable. \n",
    "\n",
    "* Train a model with `max_depth=1`"
   ]
  },
  {
   "cell_type": "code",
   "execution_count": 9,
   "metadata": {},
   "outputs": [
    {
     "name": "stdout",
     "output_type": "stream",
     "text": [
      "|--- room_type=Entire home/apt <= 0.50\n",
      "|   |--- class: 38\n",
      "|--- room_type=Entire home/apt >  0.50\n",
      "|   |--- class: 138\n",
      "\n"
     ]
    }
   ],
   "source": [
    "from sklearn.tree import DecisionTreeClassifier\n",
    "from sklearn.tree import export_text\n",
    "dt = DecisionTreeClassifier(max_depth=1)\n",
    "dt.fit(X_train, y_train_encoded)\n",
    "print(export_text(dt, feature_names=dv.get_feature_names()))"
   ]
  },
  {
   "cell_type": "markdown",
   "metadata": {},
   "source": [
    "Which feature is used for splitting the data?\n",
    "\n",
    "* `room_type` THIS ONE\n",
    "* `neighbourhood_group`\n",
    "* `number_of_reviews`\n",
    "* `reviews_per_month`"
   ]
  },
  {
   "cell_type": "markdown",
   "metadata": {},
   "source": [
    "## Question 2\n",
    "\n",
    "Train a random forest model with these parameters:\n",
    "\n",
    "* `n_estimators=10`\n",
    "* `random_state=1`\n",
    "* `n_jobs=-1`  (optional - to make training faster)"
   ]
  },
  {
   "cell_type": "code",
   "execution_count": 10,
   "metadata": {},
   "outputs": [
    {
     "name": "stdout",
     "output_type": "stream",
     "text": [
      "Validation MAE for Random Forest Model: 0.4598535778342608\n"
     ]
    }
   ],
   "source": [
    "from sklearn.ensemble import RandomForestRegressor\n",
    "from sklearn.metrics import mean_squared_error\n",
    "\n",
    "\n",
    "# Define the model. Set random_state to 1\n",
    "rf_model = RandomForestRegressor(random_state = 1,n_estimators=10,n_jobs=-1)\n",
    "\n",
    "# fit your model\n",
    "rf_model.fit(X_train, y_train)\n",
    "\n",
    "# Calculate the mean absolute error of your Random Forest model on the validation data\n",
    "rf_preds = rf_model.predict(X_val)\n",
    "rf_val_mae = np.sqrt(mean_squared_error(y_val,rf_preds))\n",
    "\n",
    "print(\"Validation MAE for Random Forest Model: {}\".format(rf_val_mae))\n"
   ]
  },
  {
   "cell_type": "markdown",
   "metadata": {},
   "source": [
    "What's the RMSE of this model on validation?\n",
    "\n",
    "* 0.059\n",
    "* 0.259\n",
    "* 0.459 THIS ONE??\n",
    "* 0.659"
   ]
  },
  {
   "cell_type": "markdown",
   "metadata": {},
   "source": [
    "## Question 3\n",
    "\n",
    "Now let's experiment with the `n_estimators` parameter\n",
    "\n",
    "* Try different values of this parameter from 10 to 200 with step 10\n",
    "* Set `random_state` to `1`\n",
    "* Evaluate the model on the validation dataset"
   ]
  },
  {
   "cell_type": "code",
   "execution_count": null,
   "metadata": {},
   "outputs": [],
   "source": []
  },
  {
   "cell_type": "raw",
   "metadata": {},
   "source": [
    "nest = np.arange(10,200,10)\n",
    "for n in nest:\n",
    "    rf_model = RandomForestRegressor(random_state = 1,n_estimators=n,n_jobs=-1)\n",
    "    rf_model.fit(X_train, y_train)\n",
    "    rf_preds = rf_model.predict(X_val)\n",
    "    rf_val_rmse = np.sqrt(mean_squared_error(y_val,rf_preds))\n",
    "    print(f\"Validation RMSE for Random Forest Model with {n}: {rf_val_rmse}\")"
   ]
  },
  {
   "cell_type": "markdown",
   "metadata": {},
   "source": [
    "After which value of `n_estimators` does RMSE stop improving?\n",
    "\n",
    "- 10\n",
    "- 50\n",
    "- 70\n",
    "- 120 THIS ONE"
   ]
  },
  {
   "cell_type": "markdown",
   "metadata": {},
   "source": [
    "## Question 4\n",
    "\n",
    "Let's select the best `max_depth`:\n",
    "\n",
    "* Try different values of `max_depth`: `[10, 15, 20, 25]`\n",
    "* For each of these values, try different values of `n_estimators` from 10 till 200 (with step 10)\n",
    "* Fix the random seed: `random_state=1`"
   ]
  },
  {
   "cell_type": "code",
   "execution_count": 12,
   "metadata": {},
   "outputs": [
    {
     "name": "stdout",
     "output_type": "stream",
     "text": [
      "Validation RMSE with 10 estimators and max_depth 10: 0.445596171749275\n",
      "Validation RMSE with 20 estimators and max_depth 10: 0.44203282715576686\n",
      "Validation RMSE with 30 estimators and max_depth 10: 0.4413920618234788\n",
      "Validation RMSE with 40 estimators and max_depth 10: 0.4415405361267545\n",
      "Validation RMSE with 50 estimators and max_depth 10: 0.44112040608323544\n",
      "Validation RMSE with 60 estimators and max_depth 10: 0.4410956757983925\n",
      "Validation RMSE with 70 estimators and max_depth 10: 0.4408047570608675\n",
      "Validation RMSE with 80 estimators and max_depth 10: 0.44063392403596924\n",
      "Validation RMSE with 90 estimators and max_depth 10: 0.44036005791386457\n",
      "Validation RMSE with 100 estimators and max_depth 10: 0.44014389763440204\n",
      "Validation RMSE with 110 estimators and max_depth 10: 0.44005376814946023\n",
      "Validation RMSE with 120 estimators and max_depth 10: 0.4398402482041807\n",
      "Validation RMSE with 130 estimators and max_depth 10: 0.43987437072357427\n",
      "Validation RMSE with 140 estimators and max_depth 10: 0.4398662292538334\n",
      "Validation RMSE with 150 estimators and max_depth 10: 0.4396889639485266\n",
      "Validation RMSE with 160 estimators and max_depth 10: 0.43964472224544\n",
      "Validation RMSE with 170 estimators and max_depth 10: 0.4396245440870465\n",
      "Validation RMSE with 180 estimators and max_depth 10: 0.43971691214366415\n",
      "Validation RMSE with 190 estimators and max_depth 10: 0.43966858819736404\n",
      "Validation RMSE with 10 estimators and max_depth 15: 0.4498175486561694\n",
      "Validation RMSE with 20 estimators and max_depth 15: 0.44080416870506284\n",
      "Validation RMSE with 30 estimators and max_depth 15: 0.4394399501233965\n",
      "Validation RMSE with 40 estimators and max_depth 15: 0.43879194239068187\n",
      "Validation RMSE with 50 estimators and max_depth 15: 0.4381084280548172\n",
      "Validation RMSE with 60 estimators and max_depth 15: 0.43775747746327964\n",
      "Validation RMSE with 70 estimators and max_depth 15: 0.4373850341946869\n",
      "Validation RMSE with 80 estimators and max_depth 15: 0.43726848667661466\n",
      "Validation RMSE with 90 estimators and max_depth 15: 0.43687043270730586\n",
      "Validation RMSE with 100 estimators and max_depth 15: 0.43654361439480677\n",
      "Validation RMSE with 110 estimators and max_depth 15: 0.43628759495649394\n",
      "Validation RMSE with 120 estimators and max_depth 15: 0.43623226968337897\n",
      "Validation RMSE with 130 estimators and max_depth 15: 0.43632851739490763\n",
      "Validation RMSE with 140 estimators and max_depth 15: 0.43624458339022953\n",
      "Validation RMSE with 150 estimators and max_depth 15: 0.4362820924966425\n",
      "Validation RMSE with 160 estimators and max_depth 15: 0.4360982767830573\n",
      "Validation RMSE with 170 estimators and max_depth 15: 0.43598867668739827\n",
      "Validation RMSE with 180 estimators and max_depth 15: 0.4361219482906456\n",
      "Validation RMSE with 190 estimators and max_depth 15: 0.43613372645128234\n",
      "Validation RMSE with 10 estimators and max_depth 20: 0.4597643861421082\n",
      "Validation RMSE with 20 estimators and max_depth 20: 0.44680638507585185\n",
      "Validation RMSE with 30 estimators and max_depth 20: 0.4441010161313461\n",
      "Validation RMSE with 40 estimators and max_depth 20: 0.4423579078833037\n",
      "Validation RMSE with 50 estimators and max_depth 20: 0.44131572254332624\n",
      "Validation RMSE with 60 estimators and max_depth 20: 0.4405547615283166\n",
      "Validation RMSE with 70 estimators and max_depth 20: 0.4399987240957207\n",
      "Validation RMSE with 80 estimators and max_depth 20: 0.43993247325790047\n",
      "Validation RMSE with 90 estimators and max_depth 20: 0.43929852062550573\n",
      "Validation RMSE with 100 estimators and max_depth 20: 0.4388036787970188\n",
      "Validation RMSE with 110 estimators and max_depth 20: 0.4383648882372162\n",
      "Validation RMSE with 120 estimators and max_depth 20: 0.43823827664148063\n",
      "Validation RMSE with 130 estimators and max_depth 20: 0.4382844333857575\n",
      "Validation RMSE with 140 estimators and max_depth 20: 0.438056459793865\n",
      "Validation RMSE with 150 estimators and max_depth 20: 0.43799819016463676\n",
      "Validation RMSE with 160 estimators and max_depth 20: 0.437797255811193\n",
      "Validation RMSE with 170 estimators and max_depth 20: 0.4376444598387768\n",
      "Validation RMSE with 180 estimators and max_depth 20: 0.4377056904505504\n",
      "Validation RMSE with 190 estimators and max_depth 20: 0.4376500306475705\n",
      "Validation RMSE with 10 estimators and max_depth 25: 0.46070004844483997\n",
      "Validation RMSE with 20 estimators and max_depth 25: 0.44792316752278255\n",
      "Validation RMSE with 30 estimators and max_depth 25: 0.44493573688024735\n",
      "Validation RMSE with 40 estimators and max_depth 25: 0.443204232394713\n",
      "Validation RMSE with 50 estimators and max_depth 25: 0.4424568587096234\n",
      "Validation RMSE with 60 estimators and max_depth 25: 0.44180306869726593\n",
      "Validation RMSE with 70 estimators and max_depth 25: 0.4412327356777305\n",
      "Validation RMSE with 80 estimators and max_depth 25: 0.44113477672978463\n",
      "Validation RMSE with 90 estimators and max_depth 25: 0.4405432448502724\n",
      "Validation RMSE with 100 estimators and max_depth 25: 0.44021465951348787\n",
      "Validation RMSE with 110 estimators and max_depth 25: 0.4396193285991971\n",
      "Validation RMSE with 120 estimators and max_depth 25: 0.4393703485648792\n",
      "Validation RMSE with 130 estimators and max_depth 25: 0.43951212060887535\n",
      "Validation RMSE with 140 estimators and max_depth 25: 0.4392641595142542\n",
      "Validation RMSE with 150 estimators and max_depth 25: 0.4391976006190898\n",
      "Validation RMSE with 160 estimators and max_depth 25: 0.4390696283379905\n",
      "Validation RMSE with 170 estimators and max_depth 25: 0.43891744959107115\n",
      "Validation RMSE with 180 estimators and max_depth 25: 0.439081742440244\n",
      "Validation RMSE with 190 estimators and max_depth 25: 0.4389732035704542\n"
     ]
    }
   ],
   "source": [
    "nest = np.arange(10,200,10)\n",
    "\n",
    "for max_depth in [10, 15, 20, 25]:\n",
    "    for n in nest:\n",
    "        rf_model = RandomForestRegressor(random_state = 1,n_estimators=n,n_jobs=-1,max_depth=max_depth)\n",
    "        rf_model.fit(X_train, y_train)\n",
    "        rf_preds = rf_model.predict(X_val)\n",
    "        rf_val_rmse = np.sqrt(mean_squared_error(y_val,rf_preds))\n",
    "        print(f\"Validation RMSE with {n} estimators and max_depth {max_depth}: {rf_val_rmse}\")"
   ]
  },
  {
   "cell_type": "markdown",
   "metadata": {},
   "source": [
    "What's the best `max_depth`:\n",
    "\n",
    "* 10 PROB THIS\n",
    "* 15\n",
    "* 20\n",
    "* 25\n",
    "\n",
    "Bonus question (not graded):\n",
    "\n",
    "Will the answer be different if we change the seed for the model?"
   ]
  },
  {
   "cell_type": "markdown",
   "metadata": {},
   "source": [
    "## Question 5\n",
    "\n",
    "We can extract feature importance information from tree-based models. \n",
    "\n",
    "At each step of the decision tree learning algorith, it finds the best split. \n",
    "When doint it, we can calculate \"gain\" - the reduction in impurity before and after the split. \n",
    "This gain is quite useful in understanding what are the imporatant features \n",
    "for tree-based models.\n",
    "\n",
    "In Scikit-Learn, tree-based models contain this information in the `feature_importances_` field. \n",
    "\n",
    "For this homework question, we'll find the most important feature:\n",
    "\n",
    "* Train the model with these parametes:\n",
    "    * `n_estimators=10`,\n",
    "    * `max_depth=20`,\n",
    "    * `random_state=1`,\n",
    "    * `n_jobs=-1` (optional)\n",
    "* Get the feature importance information from this model"
   ]
  },
  {
   "cell_type": "code",
   "execution_count": 11,
   "metadata": {},
   "outputs": [
    {
     "data": {
      "text/plain": [
       "RandomForestRegressor(max_depth=20, n_estimators=10, n_jobs=-1, random_state=1)"
      ]
     },
     "execution_count": 11,
     "metadata": {},
     "output_type": "execute_result"
    }
   ],
   "source": [
    "rf_model = RandomForestRegressor(n_estimators=10,max_depth=20,random_state=1,n_jobs=-1)\n",
    "rf_model.fit(X_train, y_train)\n"
   ]
  },
  {
   "cell_type": "code",
   "execution_count": 12,
   "metadata": {},
   "outputs": [
    {
     "data": {
      "text/plain": [
       "array([7.65657560e-02, 3.02638819e-02, 1.51755500e-01, 1.53475601e-01,\n",
       "       5.31695975e-02, 4.47273475e-04, 1.11450114e-03, 3.40436593e-02,\n",
       "       1.03414350e-03, 8.37127171e-05, 4.25185232e-02, 5.45945765e-02,\n",
       "       3.91898023e-01, 4.87707077e-03, 4.15817992e-03])"
      ]
     },
     "execution_count": 12,
     "metadata": {},
     "output_type": "execute_result"
    }
   ],
   "source": [
    "rf_model.feature_importances_"
   ]
  },
  {
   "cell_type": "code",
   "execution_count": 13,
   "metadata": {},
   "outputs": [
    {
     "data": {
      "text/plain": [
       "<BarContainer object of 15 artists>"
      ]
     },
     "execution_count": 13,
     "metadata": {},
     "output_type": "execute_result"
    },
    {
     "data": {
      "image/png": "[encoded data removed]",
      "text/plain": [
       "<Figure size 432x288 with 1 Axes>"
      ]
     },
     "metadata": {
      "needs_background": "light"
     },
     "output_type": "display_data"
    }
   ],
   "source": [
    "plt.barh(dv.get_feature_names(), rf_model.feature_importances_)\n"
   ]
  },
  {
   "cell_type": "markdown",
   "metadata": {},
   "source": [
    "What's the most important feature? \n",
    "\n",
    "* `neighbourhood_group=Manhattan`\n",
    "* `room_type=Entire home/apt`\t THIS ONE\n",
    "* `longitude`\n",
    "* `latitude`"
   ]
  },
  {
   "cell_type": "markdown",
   "metadata": {},
   "source": [
    "## Question 6"
   ]
  },
  {
   "cell_type": "markdown",
   "metadata": {},
   "source": [
    "Now let's train an XGBoost model! For this question, we'll tune the `eta` parameter\n",
    "\n",
    "* Install XGBoost\n",
    "* Create DMatrix for train and validation\n",
    "* Create a watchlist\n",
    "* Train a model with these parameters for 100 rounds:\n",
    "\n",
    "```\n",
    "xgb_params = {\n",
    "    'eta': 0.3, \n",
    "    'max_depth': 6,\n",
    "    'min_child_weight': 1,\n",
    "    \n",
    "    'objective': 'reg:squarederror',\n",
    "    'nthread': 8,\n",
    "    \n",
    "    'seed': 1,\n",
    "    'verbosity': 1,\n",
    "}\n",
    "```"
   ]
  },
  {
   "cell_type": "code",
   "execution_count": 14,
   "metadata": {},
   "outputs": [
    {
     "name": "stdout",
     "output_type": "stream",
     "text": [
      "[0]\ttrain-rmse:3.02752\tval-rmse:3.02415\n",
      "[5]\ttrain-rmse:0.67490\tval-rmse:0.67752\n",
      "[10]\ttrain-rmse:0.43912\tval-rmse:0.44981\n",
      "[15]\ttrain-rmse:0.42259\tval-rmse:0.43827\n",
      "[20]\ttrain-rmse:0.41716\tval-rmse:0.43691\n",
      "[25]\ttrain-rmse:0.41365\tval-rmse:0.43621\n",
      "[30]\ttrain-rmse:0.40712\tval-rmse:0.43543\n",
      "[35]\ttrain-rmse:0.40444\tval-rmse:0.43510\n",
      "[40]\ttrain-rmse:0.40103\tval-rmse:0.43466\n",
      "[45]\ttrain-rmse:0.39723\tval-rmse:0.43371\n",
      "[50]\ttrain-rmse:0.39446\tval-rmse:0.43384\n",
      "[55]\ttrain-rmse:0.39129\tval-rmse:0.43378\n",
      "[60]\ttrain-rmse:0.38743\tval-rmse:0.43404\n",
      "[65]\ttrain-rmse:0.38421\tval-rmse:0.43450\n",
      "[70]\ttrain-rmse:0.38117\tval-rmse:0.43467\n",
      "[75]\ttrain-rmse:0.37801\tval-rmse:0.43489\n",
      "[80]\ttrain-rmse:0.37668\tval-rmse:0.43526\n",
      "[85]\ttrain-rmse:0.37259\tval-rmse:0.43537\n",
      "[90]\ttrain-rmse:0.36998\tval-rmse:0.43539\n",
      "[95]\ttrain-rmse:0.36742\tval-rmse:0.43579\n",
      "[99]\ttrain-rmse:0.36478\tval-rmse:0.43621\n"
     ]
    }
   ],
   "source": [
    "xgb_params = {\n",
    "    'eta': 0.3, \n",
    "    'max_depth': 6,\n",
    "    'min_child_weight': 1,\n",
    "    \n",
    "    'objective': 'reg:squarederror',\n",
    "    'nthread': 8,\n",
    "    \n",
    "    'seed': 1,\n",
    "    'verbosity': 1,\n",
    "}\n",
    "import xgboost as xgb\n",
    "features = dv.get_feature_names()\n",
    "dtrain = xgb.DMatrix(X_train, label=y_train, feature_names=features)\n",
    "dval = xgb.DMatrix(X_val, label=y_val, feature_names=features)\n",
    "watchlist = [(dtrain, 'train'), (dval, 'val')]\n",
    "model = xgb.train(xgb_params, dtrain, num_boost_round=100,\n",
    "                  verbose_eval=5,\n",
    "                  evals=watchlist)"
   ]
  },
  {
   "cell_type": "markdown",
   "metadata": {},
   "source": [
    "Now change `eta` first to `0.1` and then to `0.01`"
   ]
  },
  {
   "cell_type": "code",
   "execution_count": 15,
   "metadata": {},
   "outputs": [
    {
     "name": "stdout",
     "output_type": "stream",
     "text": [
      "[0]\ttrain-rmse:3.87217\tval-rmse:3.86889\n",
      "[5]\ttrain-rmse:2.31905\tval-rmse:2.31692\n",
      "[10]\ttrain-rmse:1.41910\tval-rmse:1.41786\n",
      "[15]\ttrain-rmse:0.91299\tval-rmse:0.91348\n",
      "[20]\ttrain-rmse:0.64528\tval-rmse:0.64883\n",
      "[25]\ttrain-rmse:0.51733\tval-rmse:0.52364\n",
      "[30]\ttrain-rmse:0.46186\tval-rmse:0.47101\n",
      "[35]\ttrain-rmse:0.43843\tval-rmse:0.44997\n",
      "[40]\ttrain-rmse:0.42770\tval-rmse:0.44150\n",
      "[45]\ttrain-rmse:0.42222\tval-rmse:0.43795\n",
      "[50]\ttrain-rmse:0.41868\tval-rmse:0.43589\n",
      "[55]\ttrain-rmse:0.41644\tval-rmse:0.43515\n",
      "[60]\ttrain-rmse:0.41432\tval-rmse:0.43460\n",
      "[65]\ttrain-rmse:0.41226\tval-rmse:0.43400\n",
      "[70]\ttrain-rmse:0.41059\tval-rmse:0.43361\n",
      "[75]\ttrain-rmse:0.40876\tval-rmse:0.43336\n",
      "[80]\ttrain-rmse:0.40747\tval-rmse:0.43306\n",
      "[85]\ttrain-rmse:0.40626\tval-rmse:0.43299\n",
      "[90]\ttrain-rmse:0.40478\tval-rmse:0.43280\n",
      "[95]\ttrain-rmse:0.40406\tval-rmse:0.43272\n",
      "[99]\ttrain-rmse:0.40277\tval-rmse:0.43250\n"
     ]
    }
   ],
   "source": [
    "xgb_params['eta'] = 0.1 \n",
    "  \n",
    "model = xgb.train(xgb_params, dtrain, num_boost_round=100,\n",
    "                  verbose_eval=5,\n",
    "                  evals=watchlist)"
   ]
  },
  {
   "cell_type": "code",
   "execution_count": 16,
   "metadata": {},
   "outputs": [
    {
     "name": "stdout",
     "output_type": "stream",
     "text": [
      "[0]\ttrain-rmse:4.25336\tval-rmse:4.25010\n",
      "[5]\ttrain-rmse:4.04779\tval-rmse:4.04454\n",
      "[10]\ttrain-rmse:3.85242\tval-rmse:3.84921\n",
      "[15]\ttrain-rmse:3.66674\tval-rmse:3.66359\n",
      "[20]\ttrain-rmse:3.49030\tval-rmse:3.48719\n",
      "[25]\ttrain-rmse:3.32263\tval-rmse:3.31956\n",
      "[30]\ttrain-rmse:3.16332\tval-rmse:3.16029\n",
      "[35]\ttrain-rmse:3.01196\tval-rmse:3.00898\n",
      "[40]\ttrain-rmse:2.86817\tval-rmse:2.86533\n",
      "[45]\ttrain-rmse:2.73158\tval-rmse:2.72884\n",
      "[50]\ttrain-rmse:2.60185\tval-rmse:2.59925\n",
      "[55]\ttrain-rmse:2.47865\tval-rmse:2.47612\n",
      "[60]\ttrain-rmse:2.36167\tval-rmse:2.35927\n",
      "[65]\ttrain-rmse:2.25061\tval-rmse:2.24835\n",
      "[70]\ttrain-rmse:2.14519\tval-rmse:2.14303\n",
      "[75]\ttrain-rmse:2.04514\tval-rmse:2.04311\n",
      "[80]\ttrain-rmse:1.95022\tval-rmse:1.94827\n",
      "[85]\ttrain-rmse:1.86015\tval-rmse:1.85833\n",
      "[90]\ttrain-rmse:1.77472\tval-rmse:1.77302\n",
      "[95]\ttrain-rmse:1.69373\tval-rmse:1.69214\n",
      "[99]\ttrain-rmse:1.63198\tval-rmse:1.63045\n"
     ]
    }
   ],
   "source": [
    "xgb_params['eta'] = 0.01 \n",
    "  \n",
    "model = xgb.train(xgb_params, dtrain, num_boost_round=100,\n",
    "                  verbose_eval=5,\n",
    "                  evals=watchlist)"
   ]
  },
  {
   "cell_type": "markdown",
   "metadata": {},
   "source": [
    "What's the best eta?\n",
    "\n",
    "* 0.3 THIS ONE\n",
    "* 0.1\n",
    "* 0.01"
   ]
  },
  {
   "cell_type": "markdown",
   "metadata": {},
   "source": [
    "## Submit the results\n",
    "\n",
    "\n",
    "Submit your results here: https://forms.gle/wQgFkYE6CtdDed4w8\n",
    "\n",
    "It's possible that your answers won't match exactly. If it's the case, select the closest one.\n",
    "\n",
    "\n",
    "## Deadline\n",
    "\n",
    "\n",
    "The deadline for submitting is 20 October 2021, 17:00 CET (Wednesday). After that, the form will be closed.\n",
    "\n"
   ]
  }
 ],
 "metadata": {
  "kernelspec": {
   "display_name": "Python 3",
   "language": "python",
   "name": "python3"
  },
  "language_info": {
   "codemirror_mode": {
    "name": "ipython",
    "version": 3
   },
   "file_extension": ".py",
   "mimetype": "text/x-python",
   "name": "python",
   "nbconvert_exporter": "python",
   "pygments_lexer": "ipython3",
   "version": "3.7.3"
  }
 },
 "nbformat": 4,
 "nbformat_minor": 4
}
